{
 "cells": [
  {
   "cell_type": "code",
   "execution_count": 1,
   "id": "6c2c6118-58ea-4bd9-9704-213847bc2b0f",
   "metadata": {},
   "outputs": [],
   "source": [
    "import unittest\n",
    "import os\n",
    "import csv\n",
    "from pyspark.sql import SparkSession"
   ]
  },
  {
   "cell_type": "code",
   "execution_count": 2,
   "id": "903b0fe7-2ac5-4501-bc81-a688888790a8",
   "metadata": {},
   "outputs": [],
   "source": [
    "class TestDados(unittest.TestCase):\n",
    "    def setUp(self):\n",
    "        self.spark = SparkSession.builder \\\n",
    "            .appName(\"Extract and Load Test\") \\\n",
    "            .master(\"spark://spark-master:7077\") \\\n",
    "            .config(\"spark.jars\", \"/opt/bitnami/spark/jars/mysql-connector-j-8.0.33.jar\") \\\n",
    "            .config(\"spark.log.level\", \"OFF\") \\\n",
    "            .getOrCreate()\n",
    "        \n",
    "        self.dir_destino = \"/notebooks/csv\"\n",
    "        self.nome_python = \"movimento_flat_python.csv\"\n",
    "        self.nome_scala = \"movimento_flat_scala.csv\"\n",
    "        self.caminho_final_python = os.path.join(self.dir_destino, self.nome_python)\n",
    "        self.caminho_final_scala = os.path.join(self.dir_destino, self.nome_scala)\n",
    "\n",
    "    def tearDown(self):\n",
    "        if self.spark is not None:\n",
    "            self.spark.stop()\n",
    "            self.spark = None\n",
    "\n",
    "    def test_python_arquivo_gerado(self):\n",
    "        self.assertTrue(os.path.exists(self.caminho_final_python))\n",
    "\n",
    "    def test_python_tamanho_arquivo(self):\n",
    "        self.assertGreater(os.path.getsize(self.caminho_final_python), 0)\n",
    "\n",
    "    def test_python_header_campos(self):\n",
    "        with open(self.caminho_final_python, mode='r', encoding='ISO-8859-1') as file:\n",
    "            reader = csv.reader(file)\n",
    "            header = next(reader) \n",
    "            self.assertEqual(len(header), 10)\n",
    "\n",
    "    def test_scala_arquivo_gerado(self):\n",
    "        self.assertTrue(os.path.exists(self.caminho_final_scala))\n",
    "\n",
    "    def test_scala_tamanho_arquivo(self):\n",
    "        self.assertGreater(os.path.getsize(self.caminho_final_scala), 0)\n",
    "\n",
    "    def test_scala_header_campos(self):\n",
    "        with open(self.caminho_final_scala, mode='r', encoding='ISO-8859-1') as file:\n",
    "            reader = csv.reader(file)\n",
    "            header = next(reader)  \n",
    "            self.assertEqual(len(header), 10)"
   ]
  },
  {
   "cell_type": "code",
   "execution_count": 3,
   "id": "c3d3ec58-7c62-404a-9285-a353fb89fcff",
   "metadata": {},
   "outputs": [
    {
     "name": "stderr",
     "output_type": "stream",
     "text": [
      "25/03/29 15:29:52 WARN NativeCodeLoader: Unable to load native-hadoop library for your platform... using builtin-java classes where applicable\n",
      "Setting default log level to \"WARN\".\n",
      "To adjust logging level use sc.setLogLevel(newLevel). For SparkR, use setLogLevel(newLevel).\n",
      "Setting Spark log level to \"OFF\".\n",
      ".Setting Spark log level to \"OFF\".\n",
      ".Setting Spark log level to \"OFF\".\n",
      ".Setting Spark log level to \"OFF\".\n",
      ".Setting Spark log level to \"OFF\".\n",
      ".Setting Spark log level to \"OFF\".\n",
      ".\n",
      "----------------------------------------------------------------------\n",
      "Ran 6 tests in 6.419s\n",
      "\n",
      "OK\n"
     ]
    },
    {
     "data": {
      "text/plain": [
       "<unittest.runner.TextTestResult run=6 errors=0 failures=0>"
      ]
     },
     "execution_count": 3,
     "metadata": {},
     "output_type": "execute_result"
    }
   ],
   "source": [
    "loader = unittest.TestLoader()\n",
    "suite = loader.loadTestsFromTestCase(TestDados)\n",
    "runner = unittest.TextTestRunner()\n",
    "runner.run(suite)"
   ]
  },
  {
   "cell_type": "code",
   "execution_count": null,
   "id": "0782cb61-3803-4569-a43e-0d8048d2f883",
   "metadata": {},
   "outputs": [],
   "source": []
  }
 ],
 "metadata": {
  "kernelspec": {
   "display_name": "Python 3 (ipykernel)",
   "language": "python",
   "name": "python3"
  },
  "language_info": {
   "codemirror_mode": {
    "name": "ipython",
    "version": 3
   },
   "file_extension": ".py",
   "mimetype": "text/x-python",
   "name": "python",
   "nbconvert_exporter": "python",
   "pygments_lexer": "ipython3",
   "version": "3.12.9"
  }
 },
 "nbformat": 4,
 "nbformat_minor": 5
}
