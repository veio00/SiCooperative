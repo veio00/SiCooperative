{
 "cells": [
  {
   "cell_type": "code",
   "execution_count": 2,
   "id": "fe7fb6e5-d315-440c-8662-d32cf13cc12b",
   "metadata": {},
   "outputs": [],
   "source": [
    "import unittest\n",
    "import os\n",
    "import csv\n",
    "from pyspark.sql import SparkSession"
   ]
  },
  {
   "cell_type": "code",
   "execution_count": 3,
   "id": "5e2d80e0-4f7a-4ffd-9e1b-48b49be74498",
   "metadata": {},
   "outputs": [],
   "source": [
    "class TestTransformations(unittest.TestCase):\n",
    "    def setUp(self):\n",
    "        self.spark = SparkSession.builder \\\n",
    "            .appName(\"Transformation Test\") \\\n",
    "            .master(\"local[*]\") \\\n",
    "            .config(\"spark.log.level\", \"OFF\") \\\n",
    "            .getOrCreate()\n",
    "        \n",
    "        self.dir_destino = \"file:///notebooks/csv/\"\n",
    "        self.nome_python = \"movimento_flat_python.csv\"\n",
    "        self.nome_scala = \"movimento_flat_scala.csv\"\n",
    "        self.caminho_final_python = os.path.join(self.dir_destino, self.nome_python)\n",
    "        self.caminho_final_scala = os.path.join(self.dir_destino, self.nome_scala)\n",
    "\n",
    "    def tearDown(self):\n",
    "        if self.spark is not None:\n",
    "            self.spark.stop()\n",
    "            self.spark = None\n",
    "\n",
    "    def test_python_colunas_esperadas(self):\n",
    "        df = self.spark.read.option(\"header\", \"true\").csv(self.caminho_final_python)\n",
    "        colunas_esperadas = [\n",
    "            \"nome_associado\", \"sobrenome_associado\", \"idade_associado\",\n",
    "            \"vlr_transacao_movimento\", \"des_transacao_movimento\", \"data_movimento\",\n",
    "            \"numero_cartao\", \"nome_impresso_cartao\", \"tipo_conta\", \"data_criacao_conta\"\n",
    "        ]\n",
    "        self.assertEqual(sorted(df.columns), sorted(colunas_esperadas))\n",
    "\n",
    "    def test_scala_colunas_esperadas(self):\n",
    "        df = self.spark.read.option(\"header\", \"true\").csv(self.caminho_final_scala)\n",
    "        colunas_esperadas = [\n",
    "            \"nome_associado\", \"sobrenome_associado\", \"idade_associado\",\n",
    "            \"vlr_transacao_movimento\", \"des_transacao_movimento\", \"data_movimento\",\n",
    "            \"numero_cartao\", \"nome_impresso_cartao\", \"tipo_conta\", \"data_criacao_conta\"\n",
    "        ]\n",
    "        self.assertEqual(sorted(df.columns), sorted(colunas_esperadas))\n",
    "# \n",
    "    def test_python_tipos_dados(self):\n",
    "        df = self.spark.read.option(\"header\", \"true\").csv(self.caminho_final_python)\n",
    "        for col_name, dtype in df.dtypes:\n",
    "            self.assertEqual(dtype, \"string\")\n",
    "# \n",
    "    def test_scala_tipos_dados(self):\n",
    "        df = self.spark.read.option(\"header\", \"true\").csv(self.caminho_final_scala)\n",
    "        for col_name, dtype in df.dtypes:\n",
    "            self.assertEqual(dtype, \"string\")\n",
    "# \n",
    "    def test_python_valores_nulos(self):\n",
    "        df = self.spark.read.option(\"header\", \"true\").csv(self.caminho_final_python)\n",
    "        colunas_criticas = [\"nome_associado\", \"vlr_transacao_movimento\", \"numero_cartao\"]\n",
    "        for col in colunas_criticas:\n",
    "            nulos = df.filter(df[col].isNull()).count()\n",
    "            self.assertEqual(nulos, 0)\n",
    "# \n",
    "    def test_scala_valores_nulos(self):\n",
    "        df = self.spark.read.option(\"header\", \"true\").csv(self.caminho_final_scala)\n",
    "        colunas_criticas = [\"nome_associado\", \"vlr_transacao_movimento\", \"numero_cartao\"]\n",
    "        for col in colunas_criticas:\n",
    "            nulos = df.filter(df[col].isNull()).count()\n",
    "            self.assertEqual(nulos, 0)\n",
    " \n",
    "        \n"
   ]
  },
  {
   "cell_type": "code",
   "execution_count": 4,
   "id": "70676e7d-59d8-4202-a013-6a46f3c43a68",
   "metadata": {},
   "outputs": [
    {
     "name": "stderr",
     "output_type": "stream",
     "text": [
      "Setting default log level to \"WARN\".\n",
      "To adjust logging level use sc.setLogLevel(newLevel). For SparkR, use setLogLevel(newLevel).\n",
      "25/03/29 12:44:56 WARN NativeCodeLoader: Unable to load native-hadoop library for your platform... using builtin-java classes where applicable\n",
      "25/03/29 12:44:56 WARN Utils: Service 'SparkUI' could not bind on port 4040. Attempting port 4041.\n",
      ".25/03/29 12:45:00 WARN Utils: Service 'SparkUI' could not bind on port 4040. Attempting port 4041.\n",
      ".25/03/29 12:45:01 WARN Utils: Service 'SparkUI' could not bind on port 4040. Attempting port 4041.\n",
      ".25/03/29 12:45:02 WARN Utils: Service 'SparkUI' could not bind on port 4040. Attempting port 4041.\n",
      ".25/03/29 12:45:02 WARN Utils: Service 'SparkUI' could not bind on port 4040. Attempting port 4041.\n",
      ".25/03/29 12:45:03 WARN Utils: Service 'SparkUI' could not bind on port 4040. Attempting port 4041.\n",
      ".\n",
      "----------------------------------------------------------------------\n",
      "Ran 6 tests in 10.085s\n",
      "\n",
      "OK\n"
     ]
    },
    {
     "data": {
      "text/plain": [
       "<unittest.runner.TextTestResult run=6 errors=0 failures=0>"
      ]
     },
     "execution_count": 4,
     "metadata": {},
     "output_type": "execute_result"
    },
    {
     "name": "stderr",
     "output_type": "stream",
     "text": [
      "25/03/29 12:47:29 WARN JavaUtils: Attempt to delete using native Unix OS command failed for path = /tmp/spark-96c9ec72-0c7b-4210-b937-44afcc4fe443/pyspark-dfaf3645-bccf-4994-9b77-1da087c7026b. Falling back to Java IO way\n",
      "java.io.IOException: Failed to delete: /tmp/spark-96c9ec72-0c7b-4210-b937-44afcc4fe443/pyspark-dfaf3645-bccf-4994-9b77-1da087c7026b\n",
      "\tat org.apache.spark.network.util.JavaUtils.deleteRecursivelyUsingUnixNative(JavaUtils.java:166)\n",
      "\tat org.apache.spark.network.util.JavaUtils.deleteRecursively(JavaUtils.java:109)\n",
      "\tat org.apache.spark.network.util.JavaUtils.deleteRecursively(JavaUtils.java:90)\n",
      "\tat org.apache.spark.util.SparkFileUtils.deleteRecursively(SparkFileUtils.scala:121)\n",
      "\tat org.apache.spark.util.SparkFileUtils.deleteRecursively$(SparkFileUtils.scala:120)\n",
      "\tat org.apache.spark.util.Utils$.deleteRecursively(Utils.scala:1126)\n",
      "\tat org.apache.spark.util.ShutdownHookManager$.$anonfun$new$4(ShutdownHookManager.scala:65)\n",
      "\tat org.apache.spark.util.ShutdownHookManager$.$anonfun$new$4$adapted(ShutdownHookManager.scala:62)\n",
      "\tat scala.collection.IndexedSeqOptimized.foreach(IndexedSeqOptimized.scala:36)\n",
      "\tat scala.collection.IndexedSeqOptimized.foreach$(IndexedSeqOptimized.scala:33)\n",
      "\tat scala.collection.mutable.ArrayOps$ofRef.foreach(ArrayOps.scala:198)\n",
      "\tat org.apache.spark.util.ShutdownHookManager$.$anonfun$new$2(ShutdownHookManager.scala:62)\n",
      "\tat org.apache.spark.util.SparkShutdownHook.run(ShutdownHookManager.scala:214)\n",
      "\tat org.apache.spark.util.SparkShutdownHookManager.$anonfun$runAll$2(ShutdownHookManager.scala:188)\n",
      "\tat scala.runtime.java8.JFunction0$mcV$sp.apply(JFunction0$mcV$sp.java:23)\n",
      "\tat org.apache.spark.util.Utils$.logUncaughtExceptions(Utils.scala:1928)\n",
      "\tat org.apache.spark.util.SparkShutdownHookManager.$anonfun$runAll$1(ShutdownHookManager.scala:188)\n",
      "\tat scala.runtime.java8.JFunction0$mcV$sp.apply(JFunction0$mcV$sp.java:23)\n",
      "\tat scala.util.Try$.apply(Try.scala:213)\n",
      "\tat org.apache.spark.util.SparkShutdownHookManager.runAll(ShutdownHookManager.scala:188)\n",
      "\tat org.apache.spark.util.SparkShutdownHookManager$$anon$2.run(ShutdownHookManager.scala:178)\n",
      "\tat java.base/java.util.concurrent.Executors$RunnableAdapter.call(Unknown Source)\n",
      "\tat java.base/java.util.concurrent.FutureTask.run(Unknown Source)\n",
      "\tat java.base/java.util.concurrent.ThreadPoolExecutor.runWorker(Unknown Source)\n",
      "\tat java.base/java.util.concurrent.ThreadPoolExecutor$Worker.run(Unknown Source)\n",
      "\tat java.base/java.lang.Thread.run(Unknown Source)\n",
      "Caused by: java.io.IOException: Cannot run program \"rm\": error=0, Failed to exec spawn helper: pid: 4901, signal: 15\n",
      "\tat java.base/java.lang.ProcessBuilder.start(Unknown Source)\n",
      "\tat java.base/java.lang.ProcessBuilder.start(Unknown Source)\n",
      "\tat org.apache.spark.network.util.JavaUtils.deleteRecursivelyUsingUnixNative(JavaUtils.java:162)\n",
      "\t... 25 more\n",
      "Caused by: java.io.IOException: error=0, Failed to exec spawn helper: pid: 4901, signal: 15\n",
      "\tat java.base/java.lang.ProcessImpl.forkAndExec(Native Method)\n",
      "\tat java.base/java.lang.ProcessImpl.<init>(Unknown Source)\n",
      "\tat java.base/java.lang.ProcessImpl.start(Unknown Source)\n",
      "\t... 28 more\n"
     ]
    }
   ],
   "source": [
    "loader = unittest.TestLoader()\n",
    "suite = loader.loadTestsFromTestCase(TestTransformations)\n",
    "runner = unittest.TextTestRunner()\n",
    "runner.run(suite)"
   ]
  }
 ],
 "metadata": {
  "kernelspec": {
   "display_name": "Python 3 (ipykernel)",
   "language": "python",
   "name": "python3"
  },
  "language_info": {
   "codemirror_mode": {
    "name": "ipython",
    "version": 3
   },
   "file_extension": ".py",
   "mimetype": "text/x-python",
   "name": "python",
   "nbconvert_exporter": "python",
   "pygments_lexer": "ipython3",
   "version": "3.12.9"
  }
 },
 "nbformat": 4,
 "nbformat_minor": 5
}
