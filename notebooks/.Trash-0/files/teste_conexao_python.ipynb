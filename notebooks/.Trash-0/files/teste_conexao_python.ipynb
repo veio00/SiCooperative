{
 "cells": [
  {
   "cell_type": "code",
   "execution_count": 5,
   "id": "dd0a2aa0-dd9e-459a-aeb4-c2e9e2b6e389",
   "metadata": {},
   "outputs": [
    {
     "name": "stderr",
     "output_type": "stream",
     "text": [
      "[Stage 0:>                                                          (0 + 1) / 1]"
     ]
    },
    {
     "name": "stdout",
     "output_type": "stream",
     "text": [
      "+---+-------+---------+-----+--------------------+\n",
      "| id|   nome|sobrenome|idade|               email|\n",
      "+---+-------+---------+-----+--------------------+\n",
      "|  1| Wilian|     Cruz|   63|wiliancruz1@email...|\n",
      "|  2|  Wendy|    Mateo|   30|wendymateo2@email...|\n",
      "|  3|  Wendy|    Gomes|   47|wendygomes3@email...|\n",
      "|  4|Natalia|     Cruz|   53|nataliacruz4@emai...|\n",
      "|  5|Natalia|  Santana|   47|nataliasantana5@e...|\n",
      "|  6|Gustavo|   Murada|   43|gustavomurada6@em...|\n",
      "|  7|   Eder|    Mateo|   47|edermateo7@email.com|\n",
      "|  8|Natalia|    Gomes|   31|nataliagomes8@ema...|\n",
      "|  9|   Caio|    Gomes|   54|caiogomes9@email.com|\n",
      "| 10|Natalia|     Cruz|   57|nataliacruz10@ema...|\n",
      "| 11|   Caio|   Murada|   25|caiomurada11@emai...|\n",
      "| 12| Wilian|     Cruz|   30|wiliancruz12@emai...|\n",
      "| 13|   Eder|   Murada|   36|edermurada13@emai...|\n",
      "| 14|   Caio|   Murada|   27|caiomurada14@emai...|\n",
      "| 15| Wilian|  Lanzana|   54|wilianlanzana15@e...|\n",
      "| 16|Natalia| Monteiro|   36|nataliamonteiro16...|\n",
      "| 17| Wilian|  Lanzana|   65|wilianlanzana17@e...|\n",
      "| 18|Gustavo|  Santana|   45|gustavosantana18@...|\n",
      "| 19|Wallace|   Murada|   26|wallacemurada19@e...|\n",
      "| 20|   Joao|  Lanzana|   56|joaolanzana20@ema...|\n",
      "+---+-------+---------+-----+--------------------+\n",
      "only showing top 20 rows\n",
      "\n"
     ]
    },
    {
     "name": "stderr",
     "output_type": "stream",
     "text": [
      "                                                                                "
     ]
    }
   ],
   "source": [
    "from pyspark.sql import SparkSession\n",
    "\n",
    "spark = SparkSession.builder \\\n",
    "    .appName(\"Teste PySpark\") \\\n",
    "    .master(\"spark://spark-master:7077\") \\\n",
    "    .config(\"spark.jars\", \"/opt/bitnami/spark/jars/mysql-connector-j-8.0.33.jar\") \\\n",
    "    .getOrCreate()\n",
    "\n",
    "df = spark.read \\\n",
    "    .format(\"jdbc\") \\\n",
    "    .option(\"url\", \"jdbc:mysql://mysql:3306/desafio\") \\\n",
    "    .option(\"driver\", \"com.mysql.cj.jdbc.Driver\") \\\n",
    "    .option(\"dbtable\", \"associado\") \\\n",
    "    .option(\"user\", \"sparkuser\") \\\n",
    "    .option(\"password\", \"sparkpass\") \\\n",
    "    .load()\n",
    "\n",
    "df.show()\n",
    "\n",
    "spark.stop()"
   ]
  },
  {
   "cell_type": "code",
   "execution_count": null,
   "id": "62c83685-73d1-40dd-bcf0-d18d31395cad",
   "metadata": {},
   "outputs": [],
   "source": []
  }
 ],
 "metadata": {
  "kernelspec": {
   "display_name": "Python 3 (ipykernel)",
   "language": "python",
   "name": "python3"
  },
  "language_info": {
   "codemirror_mode": {
    "name": "ipython",
    "version": 3
   },
   "file_extension": ".py",
   "mimetype": "text/x-python",
   "name": "python",
   "nbconvert_exporter": "python",
   "pygments_lexer": "ipython3",
   "version": "3.12.9"
  }
 },
 "nbformat": 4,
 "nbformat_minor": 5
}
