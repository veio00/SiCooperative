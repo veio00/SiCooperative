{
 "cells": [
  {
   "cell_type": "code",
   "execution_count": 1,
   "id": "1da9b51f-0852-4e9c-baaa-44a4f44ce82a",
   "metadata": {},
   "outputs": [
    {
     "name": "stdout",
     "output_type": "stream",
     "text": [
      "+---+----+---------+-----+-----+\n",
      "| id|nome|sobrenome|idade|email|\n",
      "+---+----+---------+-----+-----+\n",
      "+---+----+---------+-----+-----+\n",
      "\n"
     ]
    },
    {
     "data": {
      "text/plain": [
       "spark = org.apache.spark.sql.SparkSession@390d07fa\n",
       "df = [id: int, nome: string ... 3 more fields]\n"
      ]
     },
     "metadata": {},
     "output_type": "display_data",
     "source": "user"
    },
    {
     "data": {
      "text/plain": [
       "[id: int, nome: string ... 3 more fields]"
      ]
     },
     "execution_count": 1,
     "metadata": {},
     "output_type": "execute_result"
    }
   ],
   "source": [
    "import org.apache.spark.sql.SparkSession\n",
    "\n",
    "val spark = SparkSession.builder()\n",
    "  .appName(\"Teste Spark Scala\")\n",
    "  .master(\"spark://spark-master:7077\")\n",
    "  .config(\"spark.jars\", \"/opt/bitnami/spark/jars/mysql-connector-j-8.0.33.jar\")\n",
    "  .getOrCreate()\n",
    "\n",
    "val df = spark.read\n",
    "  .format(\"jdbc\")\n",
    "  .option(\"url\", \"jdbc:mysql://mysql:3306/desafio\")\n",
    "  .option(\"driver\", \"com.mysql.cj.jdbc.Driver\")\n",
    "  .option(\"dbtable\", \"associado\")\n",
    "  .option(\"user\", \"sparkuser\")\n",
    "  .option(\"password\", \"sparkpass\")\n",
    "  .load()\n",
    "\n",
    "df.show()\n",
    "\n",
    "spark.stop()"
   ]
  }
 ],
 "metadata": {
  "kernelspec": {
   "display_name": "Apache Toree - Scala",
   "language": "scala",
   "name": "apache_toree_scala"
  },
  "language_info": {
   "codemirror_mode": "text/x-scala",
   "file_extension": ".scala",
   "mimetype": "text/x-scala",
   "name": "scala",
   "pygments_lexer": "scala",
   "version": "2.12.15"
  }
 },
 "nbformat": 4,
 "nbformat_minor": 5
}
