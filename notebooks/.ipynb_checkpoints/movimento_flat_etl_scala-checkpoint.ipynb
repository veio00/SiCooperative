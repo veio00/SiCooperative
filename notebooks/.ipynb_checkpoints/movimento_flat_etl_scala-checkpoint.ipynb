{
 "cells": [
  {
   "cell_type": "code",
   "execution_count": 52,
   "id": "2f9f3913-51e4-430e-8ba9-5d5113f7f0b1",
   "metadata": {},
   "outputs": [],
   "source": [
    "import org.apache.spark.sql.SparkSession\n",
    "import org.apache.spark.sql.functions._\n",
    "import java.util.Properties\n",
    "import java.io.File\n",
    "import java.nio.file.{Files, Paths, StandardCopyOption}"
   ]
  },
  {
   "cell_type": "code",
   "execution_count": 53,
   "id": "f9bb371f-75a6-4a49-afb1-a273392bf1f1",
   "metadata": {},
   "outputs": [
    {
     "data": {
      "text/plain": [
       "defined object Conexao\n"
      ]
     },
     "metadata": {},
     "output_type": "display_data",
     "source": "user"
    }
   ],
   "source": [
    "object Conexao {\n",
    "  def criarSessaoSpark(): SparkSession = {\n",
    "    val spark = SparkSession.builder()\n",
    "      .appName(\"ETL\")\n",
    "      .master(\"spark://spark-master:7077\")\n",
    "      .config(\"spark.jars\", \"/opt/bitnami/spark/jars/mysql-connector-j-8.0.33.jar\")\n",
    "      .getOrCreate()\n",
    "    spark\n",
    "  }\n",
    "\n",
    "  def propriedadesJDBC(): Properties = {\n",
    "    val jdbcProperties = new Properties()\n",
    "    jdbcProperties.setProperty(\"user\", \"sparkuser\")\n",
    "    jdbcProperties.setProperty(\"password\", \"sparkpass\")\n",
    "    jdbcProperties.setProperty(\"driver\", \"com.mysql.cj.jdbc.Driver\")\n",
    "    jdbcProperties\n",
    "  }\n",
    "\n",
    "  val jdbcUrl: String = \"jdbc:mysql://mysql:3306/desafio\"\n",
    "}"
   ]
  },
  {
   "cell_type": "code",
   "execution_count": 54,
   "id": "4b61ac0b-ada1-40f0-9cd4-006768ce3d79",
   "metadata": {},
   "outputs": [
    {
     "data": {
      "text/plain": [
       "associados = [id: int, nome: string ... 3 more fields]\n"
      ]
     },
     "metadata": {},
     "output_type": "display_data",
     "source": "user"
    },
    {
     "data": {
      "text/plain": [
       "[id: int, nome: string ... 3 more fields]"
      ]
     },
     "execution_count": 54,
     "metadata": {},
     "output_type": "execute_result"
    }
   ],
   "source": [
    "val associados = spark.read.jdbc(Conexao.jdbcUrl, \"associado\", Conexao.propriedadesJDBC())"
   ]
  },
  {
   "cell_type": "code",
   "execution_count": 55,
   "id": "c07c949a-b2b1-4251-9c7e-68b6604ef3f0",
   "metadata": {},
   "outputs": [
    {
     "data": {
      "text/plain": [
       "contas = [id: int, tipo_conta: string ... 2 more fields]\n"
      ]
     },
     "metadata": {},
     "output_type": "display_data",
     "source": "user"
    },
    {
     "data": {
      "text/plain": [
       "[id: int, tipo_conta: string ... 2 more fields]"
      ]
     },
     "execution_count": 55,
     "metadata": {},
     "output_type": "execute_result"
    }
   ],
   "source": [
    "val contas = spark.read.jdbc(Conexao.jdbcUrl, \"conta\", Conexao.propriedadesJDBC())"
   ]
  },
  {
   "cell_type": "code",
   "execution_count": 56,
   "id": "a1f31eb5-4900-4297-8cc7-16dacf2c7ab6",
   "metadata": {},
   "outputs": [
    {
     "data": {
      "text/plain": [
       "cartoes = [id: int, num_cartao: int ... 3 more fields]\n"
      ]
     },
     "metadata": {},
     "output_type": "display_data",
     "source": "user"
    },
    {
     "data": {
      "text/plain": [
       "[id: int, num_cartao: int ... 3 more fields]"
      ]
     },
     "execution_count": 56,
     "metadata": {},
     "output_type": "execute_result"
    }
   ],
   "source": [
    "val cartoes = spark.read.jdbc(Conexao.jdbcUrl, \"cartao\", Conexao.propriedadesJDBC())"
   ]
  },
  {
   "cell_type": "code",
   "execution_count": 57,
   "id": "b53bd1b5-ab61-4d15-9a0d-306bd2fc770d",
   "metadata": {},
   "outputs": [
    {
     "data": {
      "text/plain": [
       "movimentos = [id: int, vlr_transacao: decimal(10,2) ... 3 more fields]\n"
      ]
     },
     "metadata": {},
     "output_type": "display_data",
     "source": "user"
    },
    {
     "data": {
      "text/plain": [
       "[id: int, vlr_transacao: decimal(10,2) ... 3 more fields]"
      ]
     },
     "execution_count": 57,
     "metadata": {},
     "output_type": "execute_result"
    }
   ],
   "source": [
    "val movimentos = spark.read.jdbc(Conexao.jdbcUrl, \"movimento\", Conexao.propriedadesJDBC())"
   ]
  },
  {
   "cell_type": "code",
   "execution_count": 58,
   "id": "2f85a1fa-f0c4-470e-ba6e-a20afd532d90",
   "metadata": {},
   "outputs": [
    {
     "data": {
      "text/plain": [
       "movimento_flat_join = [id: int, nome: string ... 17 more fields]\n"
      ]
     },
     "metadata": {},
     "output_type": "display_data",
     "source": "user"
    },
    {
     "data": {
      "text/plain": [
       "[id: int, nome: string ... 17 more fields]"
      ]
     },
     "execution_count": 58,
     "metadata": {},
     "output_type": "execute_result"
    }
   ],
   "source": [
    "val movimento_flat_join = associados\n",
    "  .join(contas, associados(\"id\") === contas(\"id_associado\"), \"inner\")\n",
    "  .join(cartoes, associados(\"id\") === cartoes(\"id_associado\") && contas(\"id\") === cartoes(\"id_conta\"), \"inner\")\n",
    "  .join(movimentos, cartoes(\"id\") === movimentos(\"id_cartao\"), \"inner\")\n"
   ]
  },
  {
   "cell_type": "code",
   "execution_count": 59,
   "id": "f03d53af-6771-429f-bd76-841b9f02406f",
   "metadata": {},
   "outputs": [
    {
     "data": {
      "text/plain": [
       "movimento_flat_columns = [nome_associado: string, sobrenome_associado: string ... 8 more fields]\n"
      ]
     },
     "metadata": {},
     "output_type": "display_data",
     "source": "user"
    },
    {
     "data": {
      "text/plain": [
       "[nome_associado: string, sobrenome_associado: string ... 8 more fields]"
      ]
     },
     "execution_count": 59,
     "metadata": {},
     "output_type": "execute_result"
    }
   ],
   "source": [
    "val movimento_flat_columns = movimento_flat_join.select(\n",
    "    col(\"nome\").as(\"nome_associado\"),\n",
    "    col(\"sobrenome\").as(\"sobrenome_associado\"),\n",
    "    col(\"idade\").as(\"idade_associado\"),\n",
    "    col(\"vlr_transacao\")as(\"vlr_transacao_movimento\"),\n",
    "    col(\"des_transacao\")as(\"des_transacao_movimento\"),\n",
    "    col(\"data_movimento\"),\n",
    "    col(\"num_cartao\")as(\"numero_cartao\"),\n",
    "    col(\"nom_impresso\")as(\"nome_impresso_cartao\"),\n",
    "    col(\"tipo_conta\"),\n",
    "    col(\"data_criacao\")as(\"data_criacao_conta\")\n",
    "    )\n",
    "    \n"
   ]
  },
  {
   "cell_type": "code",
   "execution_count": 65,
   "id": "8d22fb2a-297d-4534-b98c-85d2f7f5248b",
   "metadata": {},
   "outputs": [
    {
     "data": {
      "text/plain": [
       "lastException = null\n",
       "movimento_flat = [nome_associado: string, sobrenome_associado: string ... 8 more fields]\n"
      ]
     },
     "metadata": {},
     "output_type": "display_data",
     "source": "user"
    },
    {
     "data": {
      "text/plain": [
       "[nome_associado: string, sobrenome_associado: string ... 8 more fields]"
      ]
     },
     "execution_count": 65,
     "metadata": {},
     "output_type": "execute_result"
    }
   ],
   "source": [
    "val movimento_flat= movimento_flat_columns.select(\n",
    "    col(\"nome_associado\").cast(\"string\").as(\"nome_associado\"),\n",
    "    col(\"sobrenome_associado\").cast(\"string\").as(\"sobrenome_associado\"),\n",
    "    col(\"idade_associado\").cast(\"string\").as(\"idade_associado\"),\n",
    "    col(\"vlr_transacao_movimento\").cast(\"string\").as(\"vlr_transacao_movimento\"),\n",
    "    col(\"des_transacao_movimento\").cast(\"string\").as(\"des_transacao_movimento\"),\n",
    "    col(\"data_movimento\").cast(\"string\").as(\"data_movimento\"),\n",
    "    col(\"numero_cartao\").cast(\"string\").as(\"numero_cartao\"),\n",
    "    col(\"nome_impresso_cartao\").cast(\"string\").as(\"nome_impresso_cartao\"),\n",
    "    col(\"tipo_conta\").cast(\"string\").as(\"tipo_conta\"),\n",
    "    col(\"data_criacao_conta\").cast(\"string\").as(\"data_criacao_conta\")\n",
    ")"
   ]
  },
  {
   "cell_type": "code",
   "execution_count": 66,
   "id": "8fe0549f-a51a-4b4a-b60a-fab74408caf8",
   "metadata": {},
   "outputs": [
    {
     "ename": "Syntax Error.",
     "evalue": "",
     "output_type": "error",
     "traceback": []
    }
   ],
   "source": [
    "// movimento_flat_cast.show()"
   ]
  },
  {
   "cell_type": "code",
   "execution_count": 68,
   "id": "311f1d87-ca84-456f-872d-114948ba0d90",
   "metadata": {},
   "outputs": [
    {
     "name": "stdout",
     "output_type": "stream",
     "text": [
      "Arquivo salvo como csv/movimento_flat.csv\n"
     ]
    },
    {
     "data": {
      "text/plain": [
       "lastException = null\n",
       "dir_destino = csv\n",
       "dadosProcessados = ()\n",
       "dir_saida = csv\n",
       "arquivo = csv/part-00000-aa594702-4feb-4e01-98c0-da54800e16ad-c000.csv\n",
       "nome = movimento_flat.csv\n"
      ]
     },
     "metadata": {},
     "output_type": "display_data",
     "source": "user"
    },
    {
     "data": {
      "text/plain": [
       "movimento_flat.csv"
      ]
     },
     "execution_count": 68,
     "metadata": {},
     "output_type": "execute_result"
    }
   ],
   "source": [
    "val nome = \"movimento_flat_scala.csv\"\n",
    "val dir_destino = \"csv\"\n",
    "\n",
    "val dadosProcessados = movimento_flat.coalesce(1)\n",
    "  .write\n",
    "  .mode(\"overwrite\")\n",
    "  .option(\"header\", \"true\")\n",
    "  .option(\"encoding\", \"ISO-8859-1\")\n",
    "  .csv(dir_destino)\n",
    "\n",
    "val dir_saida = new File(dir_destino)\n",
    "val arquivo = dir_saida.listFiles()\n",
    "  .filter(arquivo => arquivo.getName.startsWith(\"part-\") && arquivo.getName.endsWith(\".csv\"))\n",
    "  .head  // Pega o primeiro (e único) CSV\n",
    "\n",
    "Files.move(\n",
    "  arquivo.toPath,\n",
    "  Paths.get(s\"$dir_destino/$nome\"),\n",
    "  StandardCopyOption.REPLACE_EXISTING\n",
    ")\n",
    "\n",
    "println(s\"Arquivo salvo como $dir_destino/$nome\")"
   ]
  },
  {
   "cell_type": "code",
   "execution_count": null,
   "id": "7f5687ab-aec6-4529-9469-470948aa3e96",
   "metadata": {},
   "outputs": [],
   "source": []
  },
  {
   "cell_type": "code",
   "execution_count": null,
   "id": "99bb1af0-36bc-4013-967c-c8a65dcbbf06",
   "metadata": {},
   "outputs": [],
   "source": []
  },
  {
   "cell_type": "code",
   "execution_count": null,
   "id": "084aafac-182e-4ca3-9a42-bb713a70a096",
   "metadata": {},
   "outputs": [],
   "source": []
  }
 ],
 "metadata": {
  "kernelspec": {
   "display_name": "Apache Toree - Scala",
   "language": "scala",
   "name": "apache_toree_scala"
  },
  "language_info": {
   "codemirror_mode": "text/x-scala",
   "file_extension": ".scala",
   "mimetype": "text/x-scala",
   "name": "scala",
   "pygments_lexer": "scala",
   "version": "2.12.15"
  }
 },
 "nbformat": 4,
 "nbformat_minor": 5
}
