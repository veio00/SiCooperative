{
 "cells": [
  {
   "cell_type": "code",
   "execution_count": 2,
   "id": "36e4334c-81d5-4775-afed-7cb254f9f3be",
   "metadata": {},
   "outputs": [
    {
     "name": "stdout",
     "output_type": "stream",
     "text": [
      "Executado: SET FOREIGN_KEY_CHECKS = 0\n",
      "Executado: DELETE FROM movimento\n",
      "Executado: DELETE FROM cartao\n",
      "Executado: DELETE FROM conta\n",
      "Executado: DELETE FROM associado\n",
      "Executado: SET FOREIGN_KEY_CHECKS = 1\n",
      "Todas as tabelas foram limpas com sucesso!\n"
     ]
    }
   ],
   "source": [
    "from pyspark.sql import SparkSession\n",
    "\n",
    "spark = SparkSession.builder \\\n",
    "    .appName(\"Limpar Massa de Dados\") \\\n",
    "    .master(\"spark://spark-master:7077\") \\\n",
    "    .config(\"spark.jars\", \"/opt/bitnami/spark/jars/mysql-connector-j-8.0.33.jar\") \\\n",
    "    .getOrCreate()\n",
    "\n",
    "jdbc_url = \"jdbc:mysql://mysql:3306/desafio\"\n",
    "jdbc_properties = {\n",
    "    \"user\": \"sparkuser\",\n",
    "    \"password\": \"sparkpass\",\n",
    "    \"driver\": \"com.mysql.cj.jdbc.Driver\"\n",
    "}\n",
    "tabelas = [\"movimento\", \"cartao\", \"conta\", \"associado\"]\n",
    "\n",
    "def execute_sql(query):\n",
    "    try:\n",
    "        driver_manager = spark._jvm.java.sql.DriverManager\n",
    "        conn = driver_manager.getConnection(jdbc_url, jdbc_properties[\"user\"], jdbc_properties[\"password\"])\n",
    "        stmt = conn.createStatement()\n",
    "        stmt.execute(query)\n",
    "        print(f\"Executado: {query}\")\n",
    "        stmt.close()\n",
    "        conn.close()\n",
    "    except Exception as e:\n",
    "        print(f\"Erro ao executar '{query}': {str(e)}\")\n",
    "        raise\n",
    "\n",
    "execute_sql(\"SET FOREIGN_KEY_CHECKS = 0\")\n",
    "\n",
    "for tabela in tabelas:\n",
    "    execute_sql(f\"DELETE FROM {tabela}\")\n",
    "\n",
    "execute_sql(\"SET FOREIGN_KEY_CHECKS = 1\")\n",
    "\n",
    "spark.stop()\n",
    "\n",
    "print(\"Todas as tabelas foram limpas com sucesso!\")"
   ]
  }
 ],
 "metadata": {
  "kernelspec": {
   "display_name": "Python 3 (ipykernel)",
   "language": "python",
   "name": "python3"
  },
  "language_info": {
   "codemirror_mode": {
    "name": "ipython",
    "version": 3
   },
   "file_extension": ".py",
   "mimetype": "text/x-python",
   "name": "python",
   "nbconvert_exporter": "python",
   "pygments_lexer": "ipython3",
   "version": "3.12.9"
  }
 },
 "nbformat": 4,
 "nbformat_minor": 5
}
