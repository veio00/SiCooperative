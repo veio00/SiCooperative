{
 "cells": [
  {
   "cell_type": "code",
   "execution_count": 1,
   "id": "70e86e6d-7237-40d5-bd23-1ce94f93977d",
   "metadata": {},
   "outputs": [],
   "source": [
    "import org.apache.spark.sql.SparkSession\n",
    "import java.util.Properties"
   ]
  },
  {
   "cell_type": "code",
   "execution_count": 2,
   "id": "23df8d42-bd65-4c71-8b7f-1af06f839a35",
   "metadata": {},
   "outputs": [
    {
     "data": {
      "text/plain": [
       "defined object Conexao\n"
      ]
     },
     "metadata": {},
     "output_type": "display_data",
     "source": "user"
    }
   ],
   "source": [
    "object Conexao {\n",
    "  def criarSessaoSpark(): SparkSession = {\n",
    "    val spark = SparkSession.builder()\n",
    "      .appName(\"Limpar Base no Jupyter\")\n",
    "      .master(\"spark://spark-master:7077\")\n",
    "      .config(\"spark.jars\", \"/opt/bitnami/spark/jars/mysql-connector-j-8.0.33.jar\")\n",
    "      .getOrCreate()\n",
    "    spark\n",
    "  }\n",
    "\n",
    "  def propriedadesJDBC(): Properties = {\n",
    "    val jdbcProperties = new Properties()\n",
    "    jdbcProperties.setProperty(\"user\", \"sparkuser\")\n",
    "    jdbcProperties.setProperty(\"password\", \"sparkpass\")\n",
    "    jdbcProperties.setProperty(\"driver\", \"com.mysql.cj.jdbc.Driver\")\n",
    "    jdbcProperties\n",
    "  }\n",
    "\n",
    "  val jdbcUrl: String = \"jdbc:mysql://mysql:3306/desafio\"\n",
    "}"
   ]
  },
  {
   "cell_type": "code",
   "execution_count": 3,
   "id": "23573161-16f5-427d-8b17-5b7daf7c889e",
   "metadata": {},
   "outputs": [
    {
     "name": "stdout",
     "output_type": "stream",
     "text": [
      "Executado: SET FOREIGN_KEY_CHECKS = 0\n",
      "Executado: DELETE FROM movimento\n",
      "Executado: DELETE FROM cartao\n",
      "Executado: DELETE FROM conta\n",
      "Executado: DELETE FROM associado\n",
      "Executado: SET FOREIGN_KEY_CHECKS = 1\n",
      "Todas as tabelas foram limpas com sucesso!\n"
     ]
    },
    {
     "data": {
      "text/plain": [
       "spark = org.apache.spark.sql.SparkSession@4cda8d72\n",
       "jdbcUrl = jdbc:mysql://mysql:3306/desafio\n",
       "jdbcProperties = {password=sparkpass, driver=com.mysql.cj.jdbc.Driver, user=sparkuser}\n",
       "tabelas = List(movimento, cartao, conta, associado)\n"
      ]
     },
     "metadata": {},
     "output_type": "display_data",
     "source": "user"
    },
    {
     "data": {
      "text/plain": [
       "executeSql: (query: String)Unit\n"
      ]
     },
     "metadata": {},
     "output_type": "display_data",
     "source": "user"
    },
    {
     "data": {
      "text/plain": [
       "List(movimento, cartao, conta, associado)"
      ]
     },
     "execution_count": 3,
     "metadata": {},
     "output_type": "execute_result"
    }
   ],
   "source": [
    "val spark = Conexao.criarSessaoSpark()\n",
    "\n",
    "val jdbcUrl = Conexao.jdbcUrl\n",
    "val jdbcProperties = Conexao.propriedadesJDBC()\n",
    "\n",
    "val tabelas = Seq(\"movimento\", \"cartao\", \"conta\", \"associado\")\n",
    "\n",
    "def executeSql(query: String): Unit = {\n",
    "  try {\n",
    "    val driverManager = spark.sparkContext.getClass.getClassLoader.loadClass(\"java.sql.DriverManager\")\n",
    "    val conn = driverManager.getMethod(\"getConnection\", classOf[String], classOf[String], classOf[String])\n",
    "      .invoke(null, jdbcUrl, jdbcProperties.getProperty(\"user\"), jdbcProperties.getProperty(\"password\"))\n",
    "      .asInstanceOf[java.sql.Connection]\n",
    "    val stmt = conn.createStatement()\n",
    "    stmt.execute(query)\n",
    "    println(s\"Executado: $query\")\n",
    "    stmt.close()\n",
    "    conn.close()\n",
    "  } catch {\n",
    "    case e: Exception =>\n",
    "      println(s\"Erro ao executar '$query': ${e.getMessage}\")\n",
    "      throw e\n",
    "  }\n",
    "}\n",
    "\n",
    "executeSql(\"SET FOREIGN_KEY_CHECKS = 0\")\n",
    "tabelas.foreach { tabela =>\n",
    "  executeSql(s\"DELETE FROM $tabela\")\n",
    "}\n",
    "executeSql(\"SET FOREIGN_KEY_CHECKS = 1\")\n",
    "\n",
    "spark.stop()\n",
    "\n",
    "println(\"Todas as tabelas foram limpas com sucesso!\")"
   ]
  },
  {
   "cell_type": "code",
   "execution_count": null,
   "id": "823a78b1-b106-4c0b-8244-2af009b3aabc",
   "metadata": {},
   "outputs": [],
   "source": []
  }
 ],
 "metadata": {
  "kernelspec": {
   "display_name": "Apache Toree - Scala",
   "language": "scala",
   "name": "apache_toree_scala"
  },
  "language_info": {
   "codemirror_mode": "text/x-scala",
   "file_extension": ".scala",
   "mimetype": "text/x-scala",
   "name": "scala",
   "pygments_lexer": "scala",
   "version": "2.12.15"
  }
 },
 "nbformat": 4,
 "nbformat_minor": 5
}
