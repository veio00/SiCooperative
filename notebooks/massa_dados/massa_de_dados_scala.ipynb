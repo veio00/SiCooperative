{
 "cells": [
  {
   "cell_type": "code",
   "execution_count": 2,
   "id": "054d6ca3-028d-4745-9ece-4787fb941488",
   "metadata": {},
   "outputs": [],
   "source": [
    "import org.apache.spark.sql.SparkSession\n",
    "import org.apache.spark.sql.functions._\n",
    "import org.apache.spark.sql.DataFrame\n",
    "import java.util.Properties"
   ]
  },
  {
   "cell_type": "code",
   "execution_count": 3,
   "id": "a73d32b4-38bb-44c7-8929-ad29ed115aa7",
   "metadata": {},
   "outputs": [
    {
     "data": {
      "text/plain": [
       "defined object Conexao\n"
      ]
     },
     "metadata": {},
     "output_type": "display_data",
     "source": "user"
    }
   ],
   "source": [
    "object Conexao {\n",
    "  def criarSessaoSpark(): SparkSession = {\n",
    "    val spark = SparkSession.builder()\n",
    "      .appName(\"Gerar Massa de Dados\")\n",
    "      .master(\"spark://spark-master:7077\")\n",
    "      .config(\"spark.jars\", \"/opt/bitnami/spark/jars/mysql-connector-j-8.0.33.jar\")\n",
    "      .getOrCreate()\n",
    "    spark\n",
    "  }\n",
    "\n",
    "  def propriedadesJDBC(): Properties = {\n",
    "    val jdbcUrl = \"jdbc:mysql://mysql:3306/desafio\" \n",
    "    val jdbcProperties = new Properties()\n",
    "    jdbcProperties.setProperty(\"user\", \"sparkuser\")\n",
    "    jdbcProperties.setProperty(\"password\", \"sparkpass\")\n",
    "    jdbcProperties.setProperty(\"driver\", \"com.mysql.cj.jdbc.Driver\")\n",
    "    jdbcProperties\n",
    "  }\n",
    "\n",
    "  val jdbcUrl: String = \"jdbc:mysql://mysql:3306/desafio\"\n",
    "}"
   ]
  },
  {
   "cell_type": "code",
   "execution_count": 4,
   "id": "3d24e274-9a70-4c70-af23-edcac9c5d55f",
   "metadata": {},
   "outputs": [
    {
     "data": {
      "text/plain": [
       "defined object Associado\n"
      ]
     },
     "metadata": {},
     "output_type": "display_data",
     "source": "user"
    }
   ],
   "source": [
    "object Associado {\n",
    "  def criarAssociados(spark: SparkSession) = {\n",
    "    import spark.implicits._\n",
    "\n",
    "    val nomes = Seq(\"Wilian\", \"Natalia\", \"Gustavo\", \"Eder\", \"Wallace\", \"Wendy\", \"Caio\", \"Joao\")\n",
    "    val sobrenomes = Seq(\"Gomes\", \"Santana\", \"Mateo\", \"Murada\", \"Vieira\", \"Cruz\", \"Monteiro\", \"Lanzana\")\n",
    "\n",
    "    val associados = spark.range(1, 51).select(\n",
    "      col(\"id\"),\n",
    "      element_at(array(nomes.map(lit): _*), (floor(rand() * nomes.length) + 1).cast(\"int\")).alias(\"nome\"),\n",
    "      element_at(array(sobrenomes.map(lit): _*), (floor(rand() * sobrenomes.length) + 1).cast(\"int\")).alias(\"sobrenome\"),\n",
    "      (floor(rand() * 50) + 18).alias(\"idade\"),\n",
    "      concat_ws(\"\", lower(col(\"nome\")), lower(col(\"sobrenome\")), col(\"id\").cast(\"string\"), lit(\"@email.com\")).alias(\"email\")\n",
    "    )\n",
    "    println(\"DataFrame 'associado' criado:\")\n",
    "    associados.show(5)\n",
    "    associados\n",
    "  }\n",
    "}"
   ]
  },
  {
   "cell_type": "code",
   "execution_count": 5,
   "id": "01d6ab90-e4bd-47da-9e5f-e1b28257e64e",
   "metadata": {},
   "outputs": [
    {
     "data": {
      "text/plain": [
       "defined object Conta\n"
      ]
     },
     "metadata": {},
     "output_type": "display_data",
     "source": "user"
    }
   ],
   "source": [
    "object Conta {\n",
    "  def criarContas(spark: SparkSession, associados: DataFrame) = {\n",
    "    import spark.implicits._\n",
    "\n",
    "    val contas = associados.select(\n",
    "      col(\"id\"),\n",
    "      when(rand() > 0.5, \"Corrente\").otherwise(\"Poupança\").alias(\"tipo_conta\"),\n",
    "      current_timestamp().alias(\"data_criacao\"),\n",
    "      col(\"id\").alias(\"id_associado\")\n",
    "    )\n",
    "    println(\"DataFrame 'conta' criado:\")\n",
    "    contas.show(5)\n",
    "    contas\n",
    "  }\n",
    "}"
   ]
  },
  {
   "cell_type": "code",
   "execution_count": 6,
   "id": "0a2f440b-1b2f-478c-a90b-707618612276",
   "metadata": {},
   "outputs": [
    {
     "data": {
      "text/plain": [
       "defined object Cartao\n"
      ]
     },
     "metadata": {},
     "output_type": "display_data",
     "source": "user"
    }
   ],
   "source": [
    "object Cartao {\n",
    "  def criarCartoes(spark: SparkSession, associados: DataFrame) = {\n",
    "    import spark.implicits._\n",
    "\n",
    "    val cartoes = associados.select(\n",
    "      col(\"id\"),\n",
    "      (floor(rand() * 90000000) + 10000000).alias(\"num_cartao\"),\n",
    "      concat_ws(\" \", col(\"nome\"), col(\"sobrenome\")).alias(\"nom_impresso\"),\n",
    "      col(\"id\").alias(\"id_conta\"),\n",
    "      col(\"id\").alias(\"id_associado\")\n",
    "    )\n",
    "    println(\"DataFrame 'cartao' criado:\")\n",
    "    cartoes.show(5)\n",
    "    cartoes\n",
    "  }\n",
    "}"
   ]
  },
  {
   "cell_type": "code",
   "execution_count": 7,
   "id": "fd9811aa-4b5b-4823-8e8d-e4cb7aaa8f88",
   "metadata": {},
   "outputs": [
    {
     "data": {
      "text/plain": [
       "defined object Movimento\n"
      ]
     },
     "metadata": {},
     "output_type": "display_data",
     "source": "user"
    }
   ],
   "source": [
    "object Movimento {\n",
    "  def criarMovimentos(spark: SparkSession, cartoes: DataFrame) = {\n",
    "    import spark.implicits._\n",
    "\n",
    "    val movimentos = cartoes.select(\n",
    "      col(\"id\"),\n",
    "      (rand() * 1000).cast(\"decimal(10,2)\").alias(\"vlr_transacao\"),\n",
    "      element_at(array(lit(\"Compra\"), lit(\"Saque\"), lit(\"Depósito\")), (floor(rand() * 3) + 1).cast(\"int\")).alias(\"des_transacao\"),\n",
    "      current_timestamp().alias(\"data_movimento\"),\n",
    "      col(\"id\").alias(\"id_cartao\")\n",
    "    )\n",
    "    println(\"DataFrame 'movimento' criado:\")\n",
    "    movimentos.show(5)\n",
    "    movimentos\n",
    "  }\n",
    "}"
   ]
  },
  {
   "cell_type": "code",
   "execution_count": 8,
   "id": "161054fe-f89a-47fc-a83c-d1ce6d609154",
   "metadata": {},
   "outputs": [
    {
     "data": {
      "text/plain": [
       "spark = org.apache.spark.sql.SparkSession@2da9e122\n"
      ]
     },
     "metadata": {},
     "output_type": "display_data",
     "source": "user"
    },
    {
     "data": {
      "text/plain": [
       "org.apache.spark.sql.SparkSession@2da9e122"
      ]
     },
     "execution_count": 8,
     "metadata": {},
     "output_type": "execute_result"
    }
   ],
   "source": [
    "val spark = Conexao.criarSessaoSpark()"
   ]
  },
  {
   "cell_type": "code",
   "execution_count": 9,
   "id": "4e2f7701-17d3-4838-8e47-2e7b2de5225b",
   "metadata": {},
   "outputs": [
    {
     "name": "stdout",
     "output_type": "stream",
     "text": [
      "DataFrame 'associado' criado:\n",
      "+---+-------+---------+-----+--------------------+\n",
      "| id|   nome|sobrenome|idade|               email|\n",
      "+---+-------+---------+-----+--------------------+\n",
      "|  1|   Eder|  Santana|   43|edersantana1@emai...|\n",
      "|  2|Gustavo|   Vieira|   22|gustavovieira2@em...|\n",
      "|  3|Wallace|    Mateo|   53|wallacemateo3@ema...|\n",
      "|  4|   Caio| Monteiro|   54|caiomonteiro4@ema...|\n",
      "|  5|Wallace|    Gomes|   54|wallacegomes5@ema...|\n",
      "+---+-------+---------+-----+--------------------+\n",
      "only showing top 5 rows\n",
      "\n"
     ]
    },
    {
     "data": {
      "text/plain": [
       "associados = [id: bigint, nome: string ... 3 more fields]\n"
      ]
     },
     "metadata": {},
     "output_type": "display_data",
     "source": "user"
    },
    {
     "data": {
      "text/plain": [
       "[id: bigint, nome: string ... 3 more fields]"
      ]
     },
     "execution_count": 9,
     "metadata": {},
     "output_type": "execute_result"
    }
   ],
   "source": [
    "val associados = Associado.criarAssociados(spark)"
   ]
  },
  {
   "cell_type": "code",
   "execution_count": 10,
   "id": "9e4dbea9-62c7-4172-a4ca-01525d5fe3ae",
   "metadata": {},
   "outputs": [
    {
     "name": "stdout",
     "output_type": "stream",
     "text": [
      "DataFrame 'conta' criado:\n"
     ]
    },
    {
     "data": {
      "text/plain": [
       "contas = [id: bigint, tipo_conta: string ... 2 more fields]\n"
      ]
     },
     "metadata": {},
     "output_type": "display_data",
     "source": "user"
    },
    {
     "name": "stdout",
     "output_type": "stream",
     "text": [
      "+---+----------+--------------------+------------+\n",
      "| id|tipo_conta|        data_criacao|id_associado|\n",
      "+---+----------+--------------------+------------+\n",
      "|  1|  Corrente|2025-03-29 03:58:...|           1|\n",
      "|  2|  Corrente|2025-03-29 03:58:...|           2|\n",
      "|  3|  Corrente|2025-03-29 03:58:...|           3|\n",
      "|  4|  Poupança|2025-03-29 03:58:...|           4|\n",
      "|  5|  Poupança|2025-03-29 03:58:...|           5|\n",
      "+---+----------+--------------------+------------+\n",
      "only showing top 5 rows\n",
      "\n"
     ]
    },
    {
     "data": {
      "text/plain": [
       "[id: bigint, tipo_conta: string ... 2 more fields]"
      ]
     },
     "execution_count": 10,
     "metadata": {},
     "output_type": "execute_result"
    }
   ],
   "source": [
    "val contas = Conta.criarContas(spark, associados)"
   ]
  },
  {
   "cell_type": "code",
   "execution_count": 11,
   "id": "e8a7309f-2629-41e6-aa89-fd0f24c716a8",
   "metadata": {},
   "outputs": [
    {
     "name": "stdout",
     "output_type": "stream",
     "text": [
      "DataFrame 'cartao' criado:\n"
     ]
    },
    {
     "data": {
      "text/plain": [
       "cartoes = [id: bigint, num_cartao: bigint ... 3 more fields]\n"
      ]
     },
     "metadata": {},
     "output_type": "display_data",
     "source": "user"
    },
    {
     "name": "stdout",
     "output_type": "stream",
     "text": [
      "+---+----------+--------------+--------+------------+\n",
      "| id|num_cartao|  nom_impresso|id_conta|id_associado|\n",
      "+---+----------+--------------+--------+------------+\n",
      "|  1|  20322634|  Eder Santana|       1|           1|\n",
      "|  2|  23994831|Gustavo Vieira|       2|           2|\n",
      "|  3|  92517386| Wallace Mateo|       3|           3|\n",
      "|  4|  30618399| Caio Monteiro|       4|           4|\n",
      "|  5|  97579624| Wallace Gomes|       5|           5|\n",
      "+---+----------+--------------+--------+------------+\n",
      "only showing top 5 rows\n",
      "\n"
     ]
    },
    {
     "data": {
      "text/plain": [
       "[id: bigint, num_cartao: bigint ... 3 more fields]"
      ]
     },
     "execution_count": 11,
     "metadata": {},
     "output_type": "execute_result"
    }
   ],
   "source": [
    "val cartoes = Cartao.criarCartoes(spark, associados)"
   ]
  },
  {
   "cell_type": "code",
   "execution_count": 12,
   "id": "74d712fd-94d9-43aa-b6b7-0153587dac18",
   "metadata": {},
   "outputs": [
    {
     "name": "stdout",
     "output_type": "stream",
     "text": [
      "DataFrame 'movimento' criado:\n",
      "+---+-------------+-------------+--------------------+---------+\n",
      "| id|vlr_transacao|des_transacao|      data_movimento|id_cartao|\n",
      "+---+-------------+-------------+--------------------+---------+\n",
      "|  1|       500.91|        Saque|2025-03-29 03:58:...|        1|\n",
      "|  2|       541.25|     Depósito|2025-03-29 03:58:...|        2|\n",
      "|  3|       173.34|        Saque|2025-03-29 03:58:...|        3|\n",
      "|  4|       485.14|     Depósito|2025-03-29 03:58:...|        4|\n",
      "|  5|        53.18|       Compra|2025-03-29 03:58:...|        5|\n",
      "+---+-------------+-------------+--------------------+---------+\n",
      "only showing top 5 rows\n",
      "\n"
     ]
    },
    {
     "data": {
      "text/plain": [
       "movimentos = [id: bigint, vlr_transacao: decimal(10,2) ... 3 more fields]\n"
      ]
     },
     "metadata": {},
     "output_type": "display_data",
     "source": "user"
    },
    {
     "data": {
      "text/plain": [
       "[id: bigint, vlr_transacao: decimal(10,2) ... 3 more fields]"
      ]
     },
     "execution_count": 12,
     "metadata": {},
     "output_type": "execute_result"
    }
   ],
   "source": [
    "val movimentos = Movimento.criarMovimentos(spark, cartoes)"
   ]
  },
  {
   "cell_type": "code",
   "execution_count": 13,
   "id": "d513d434-5058-40d0-ab82-98775d7ab55e",
   "metadata": {},
   "outputs": [
    {
     "data": {
      "text/plain": [
       "jdbcProperties = {password=sparkpass, driver=com.mysql.cj.jdbc.Driver, user=sparkuser}\n"
      ]
     },
     "metadata": {},
     "output_type": "display_data",
     "source": "user"
    },
    {
     "data": {
      "text/plain": [
       "{password=sparkpass, driver=com.mysql.cj.jdbc.Driver, user=sparkuser}"
      ]
     },
     "execution_count": 13,
     "metadata": {},
     "output_type": "execute_result"
    }
   ],
   "source": [
    "val jdbcProperties = Conexao.propriedadesJDBC()\n"
   ]
  },
  {
   "cell_type": "code",
   "execution_count": 14,
   "id": "fb26b321-ab51-41a1-aaf9-3ddd64e7dbd5",
   "metadata": {},
   "outputs": [
    {
     "data": {
      "text/plain": [
       "jdbcUrl = jdbc:mysql://mysql:3306/desafio\n"
      ]
     },
     "metadata": {},
     "output_type": "display_data",
     "source": "user"
    },
    {
     "data": {
      "text/plain": [
       "jdbc:mysql://mysql:3306/desafio"
      ]
     },
     "execution_count": 14,
     "metadata": {},
     "output_type": "execute_result"
    }
   ],
   "source": [
    "val jdbcUrl = Conexao.jdbcUrl"
   ]
  },
  {
   "cell_type": "code",
   "execution_count": 15,
   "id": "e01b33ac-5211-4faa-9f5c-d979c2d4c5a8",
   "metadata": {},
   "outputs": [
    {
     "name": "stdout",
     "output_type": "stream",
     "text": [
      "Gravando os dados no MySQL...\n",
      "Tudo gerado e inserido com sucesso!\n"
     ]
    }
   ],
   "source": [
    "println(\"Gravando os dados no MySQL...\")\n",
    "associados.write.mode(\"append\").jdbc(jdbcUrl, \"associado\", jdbcProperties)\n",
    "contas.write.mode(\"append\").jdbc(jdbcUrl, \"conta\", jdbcProperties)\n",
    "cartoes.write.mode(\"append\").jdbc(jdbcUrl, \"cartao\", jdbcProperties)\n",
    "movimentos.write.mode(\"append\").jdbc(jdbcUrl, \"movimento\", jdbcProperties)\n",
    "println(\"Tudo gerado e inserido com sucesso!\")"
   ]
  },
  {
   "cell_type": "code",
   "execution_count": 16,
   "id": "e983940c-c9fb-4d2b-a83e-a1174eb427ba",
   "metadata": {},
   "outputs": [],
   "source": [
    "spark.stop()"
   ]
  },
  {
   "cell_type": "code",
   "execution_count": null,
   "id": "2e5e4840-480b-4df9-909c-8155e318bdbc",
   "metadata": {},
   "outputs": [],
   "source": []
  }
 ],
 "metadata": {
  "kernelspec": {
   "display_name": "Apache Toree - Scala",
   "language": "scala",
   "name": "apache_toree_scala"
  },
  "language_info": {
   "codemirror_mode": "text/x-scala",
   "file_extension": ".scala",
   "mimetype": "text/x-scala",
   "name": "scala",
   "pygments_lexer": "scala",
   "version": "2.12.15"
  }
 },
 "nbformat": 4,
 "nbformat_minor": 5
}
