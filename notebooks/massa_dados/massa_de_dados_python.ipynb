{
 "cells": [
  {
   "cell_type": "code",
   "execution_count": 1,
   "id": "d3e21778-c3a8-4a3f-9411-9a0cc8e42c7d",
   "metadata": {},
   "outputs": [],
   "source": [
    "from pyspark.sql import SparkSession\n",
    "from pyspark.sql.functions import col, current_timestamp, expr, concat_ws, lit, floor, rand"
   ]
  },
  {
   "cell_type": "code",
   "execution_count": 2,
   "id": "550eeab3-5481-4fa7-ac8e-e8454046d63d",
   "metadata": {},
   "outputs": [
    {
     "name": "stderr",
     "output_type": "stream",
     "text": [
      "25/03/29 15:26:39 WARN NativeCodeLoader: Unable to load native-hadoop library for your platform... using builtin-java classes where applicable\n",
      "Setting default log level to \"WARN\".\n",
      "To adjust logging level use sc.setLogLevel(newLevel). For SparkR, use setLogLevel(newLevel).\n"
     ]
    }
   ],
   "source": [
    "spark = SparkSession.builder \\\n",
    "    .appName(\"Gerar Massa de Dados\") \\\n",
    "    .master(\"spark://spark-master:7077\") \\\n",
    "    .config(\"spark.jars\", \"/opt/bitnami/spark/jars/mysql-connector-j-8.0.33.jar\") \\\n",
    "    .getOrCreate()\n",
    "\n",
    "jdbc_url = \"jdbc:mysql://mysql:3306/desafio\"\n",
    "jdbc_properties = {\n",
    "    \"user\": \"sparkuser\",\n",
    "    \"password\": \"sparkpass\",\n",
    "    \"driver\": \"com.mysql.cj.jdbc.Driver\"\n",
    "}"
   ]
  },
  {
   "cell_type": "code",
   "execution_count": 3,
   "id": "05d55c49-04b1-48f8-a176-6c6953a9bd86",
   "metadata": {},
   "outputs": [],
   "source": [
    "nomes = [\"Wilian\", \"Natalia\", \"Gustavo\", \"Eder\", \"Wallace\", \"Wendy\", \"Caio\", \"Joao\"]\n",
    "sobrenomes = [\"Gomes\", \"Santana\", \"Mateo\", \"Murada\", \"Vieira\", \"Cruz\", \"Monteiro\", \"Lanzana\"]\n",
    "\n"
   ]
  },
  {
   "cell_type": "code",
   "execution_count": 4,
   "id": "a53f9abb-9d1f-405c-975d-1bc268dbf762",
   "metadata": {},
   "outputs": [
    {
     "name": "stdout",
     "output_type": "stream",
     "text": [
      "Dados de 'associado':\n",
      "+---+-------+---------+-----+--------------------+\n",
      "| id|   nome|sobrenome|idade|               email|\n",
      "+---+-------+---------+-----+--------------------+\n",
      "|  1|   Caio|   Murada|   21|caiomurada1@email...|\n",
      "|  2|Natalia|   Murada|   28|nataliamurada2@em...|\n",
      "|  3|Wallace|     Cruz|   24|wallacecruz3@emai...|\n",
      "|  4| Wilian|    Gomes|   44|wiliangomes4@emai...|\n",
      "|  5| Wilian|    Gomes|   67|wiliangomes5@emai...|\n",
      "+---+-------+---------+-----+--------------------+\n",
      "only showing top 5 rows\n",
      "\n"
     ]
    },
    {
     "name": "stderr",
     "output_type": "stream",
     "text": [
      "                                                                                "
     ]
    }
   ],
   "source": [
    "associados = spark.range(1, 51).select(\n",
    "    col(\"id\"),\n",
    "    expr(f\"array({','.join([f\"'{n}'\" for n in nomes])})[cast(floor(rand() * {len(nomes)}) as int)]\").alias(\"nome\"),\n",
    "    expr(f\"array({','.join([f\"'{s}'\" for s in sobrenomes])})[cast(floor(rand() * {len(sobrenomes)}) as int)]\").alias(\"sobrenome\"),(floor(rand() * 50) + 18).alias(\"idade\"),\n",
    "    concat_ws(\"\", expr(\"lower(nome)\"), expr(\"lower(sobrenome)\"), expr(\"cast(id as string)\"), lit(\"@email.com\")).alias(\"email\")\n",
    ")\n",
    "\n",
    "print(\"Dados de 'associado':\")\n",
    "associados.show(5)\n"
   ]
  },
  {
   "cell_type": "code",
   "execution_count": 5,
   "id": "2b6d53ca-b298-42c2-80a0-aa5aab8a1c87",
   "metadata": {},
   "outputs": [
    {
     "name": "stdout",
     "output_type": "stream",
     "text": [
      "DataFrame 'conta' criado:\n",
      "+---+----------+--------------------+------------+\n",
      "| id|tipo_conta|        data_criacao|id_associado|\n",
      "+---+----------+--------------------+------------+\n",
      "|  1|  Corrente|2025-03-29 15:26:...|           1|\n",
      "|  2|  Poupança|2025-03-29 15:26:...|           2|\n",
      "|  3|  Corrente|2025-03-29 15:26:...|           3|\n",
      "|  4|  Corrente|2025-03-29 15:26:...|           4|\n",
      "|  5|  Poupança|2025-03-29 15:26:...|           5|\n",
      "+---+----------+--------------------+------------+\n",
      "only showing top 5 rows\n",
      "\n"
     ]
    }
   ],
   "source": [
    "contas = associados.select(\n",
    "    col(\"id\"),\n",
    "    expr(\"if(rand() > 0.5, 'Corrente', 'Poupança')\").alias(\"tipo_conta\"),\n",
    "    current_timestamp().alias(\"data_criacao\"),\n",
    "    col(\"id\").alias(\"id_associado\")\n",
    ")\n",
    "print(\"DataFrame 'conta' criado:\")\n",
    "contas.show(5)"
   ]
  },
  {
   "cell_type": "code",
   "execution_count": 6,
   "id": "d2940ce2-d6f0-4ce9-9057-7424ef550974",
   "metadata": {},
   "outputs": [
    {
     "name": "stdout",
     "output_type": "stream",
     "text": [
      "DataFrame 'cartao' criado:\n",
      "+---+----------+--------------+--------+------------+\n",
      "| id|num_cartao|  nom_impresso|id_conta|id_associado|\n",
      "+---+----------+--------------+--------+------------+\n",
      "|  1|  29759406|   Caio Murada|       1|           1|\n",
      "|  2|  84824596|Natalia Murada|       2|           2|\n",
      "|  3|  86389315|  Wallace Cruz|       3|           3|\n",
      "|  4|  72568346|  Wilian Gomes|       4|           4|\n",
      "|  5|  75052481|  Wilian Gomes|       5|           5|\n",
      "+---+----------+--------------+--------+------------+\n",
      "only showing top 5 rows\n",
      "\n"
     ]
    }
   ],
   "source": [
    "cartoes = associados.select(\n",
    "    col(\"id\"),\n",
    "    (floor(rand() * 90000000) + 10000000).alias(\"num_cartao\"),\n",
    "    concat_ws(\" \", col(\"nome\"), col(\"sobrenome\")).alias(\"nom_impresso\"),\n",
    "    col(\"id\").alias(\"id_conta\"),  # Vincula ao mesmo id da conta\n",
    "    col(\"id\").alias(\"id_associado\")\n",
    ")\n",
    "print(\"DataFrame 'cartao' criado:\")\n",
    "cartoes.show(5)"
   ]
  },
  {
   "cell_type": "code",
   "execution_count": 7,
   "id": "6c4ded48-3f45-416a-982f-f401a41cd1ac",
   "metadata": {},
   "outputs": [
    {
     "name": "stdout",
     "output_type": "stream",
     "text": [
      "DataFrame 'movimento' criado:\n",
      "+---+-------------+-------------+--------------------+---------+\n",
      "| id|vlr_transacao|des_transacao|      data_movimento|id_cartao|\n",
      "+---+-------------+-------------+--------------------+---------+\n",
      "|  1|       737.50|     Depósito|2025-03-29 15:26:...|        1|\n",
      "|  2|       436.70|     Depósito|2025-03-29 15:26:...|        2|\n",
      "|  3|       291.96|     Depósito|2025-03-29 15:26:...|        3|\n",
      "|  4|       262.64|       Compra|2025-03-29 15:26:...|        4|\n",
      "|  5|       533.38|     Depósito|2025-03-29 15:26:...|        5|\n",
      "+---+-------------+-------------+--------------------+---------+\n",
      "only showing top 5 rows\n",
      "\n"
     ]
    }
   ],
   "source": [
    "movimentos = cartoes.select(\n",
    "    col(\"id\"),\n",
    "    (rand() * 1000).cast(\"decimal(10,2)\").alias(\"vlr_transacao\"),\n",
    "    expr(\"array('Compra', 'Saque', 'Depósito')[cast(floor(rand() * 3) as int)]\").alias(\"des_transacao\"),\n",
    "    current_timestamp().alias(\"data_movimento\"),\n",
    "    col(\"id\").alias(\"id_cartao\")\n",
    ")\n",
    "print(\"DataFrame 'movimento' criado:\")\n",
    "movimentos.show(5)"
   ]
  },
  {
   "cell_type": "code",
   "execution_count": 8,
   "id": "d4eef9ea-b81a-4e14-a036-f9c601e5a499",
   "metadata": {},
   "outputs": [
    {
     "name": "stdout",
     "output_type": "stream",
     "text": [
      "Gravando no MySQL...\n"
     ]
    }
   ],
   "source": [
    "print(\"Gravando no MySQL...\")"
   ]
  },
  {
   "cell_type": "code",
   "execution_count": 9,
   "id": "8980d08b-2a4c-4918-adf9-cac98e822c47",
   "metadata": {},
   "outputs": [
    {
     "name": "stderr",
     "output_type": "stream",
     "text": [
      "                                                                                "
     ]
    }
   ],
   "source": [
    "associados.write.jdbc(url=jdbc_url, table=\"associado\", mode=\"append\", properties=jdbc_properties)"
   ]
  },
  {
   "cell_type": "code",
   "execution_count": 10,
   "id": "9ae96d5c-582d-45ce-8c44-9cf7a046bd96",
   "metadata": {},
   "outputs": [],
   "source": [
    "contas.write.jdbc(url=jdbc_url, table=\"conta\", mode=\"append\", properties=jdbc_properties)"
   ]
  },
  {
   "cell_type": "code",
   "execution_count": 11,
   "id": "cd46548c-73e0-49e6-8909-08d41525700b",
   "metadata": {},
   "outputs": [],
   "source": [
    "cartoes.write.jdbc(url=jdbc_url, table=\"cartao\", mode=\"append\", properties=jdbc_properties)"
   ]
  },
  {
   "cell_type": "code",
   "execution_count": 12,
   "id": "f1935991-f372-4394-a5b5-ec51efe8daac",
   "metadata": {},
   "outputs": [],
   "source": [
    "movimentos.write.jdbc(url=jdbc_url, table=\"movimento\", mode=\"append\", properties=jdbc_properties)"
   ]
  },
  {
   "cell_type": "code",
   "execution_count": 13,
   "id": "99d5f43b-1b98-45fa-b17d-4e30e9485e0d",
   "metadata": {},
   "outputs": [
    {
     "name": "stdout",
     "output_type": "stream",
     "text": [
      "Dados gerados e inseridos com sucesso!\n"
     ]
    }
   ],
   "source": [
    "print(\"Dados gerados e inseridos com sucesso!\")"
   ]
  },
  {
   "cell_type": "code",
   "execution_count": 14,
   "id": "e312a1fc-3693-454b-a13a-d496d94c2eff",
   "metadata": {},
   "outputs": [],
   "source": [
    "# Parar a sessão\n",
    "spark.stop()"
   ]
  },
  {
   "cell_type": "code",
   "execution_count": null,
   "id": "ba5486d6-a39f-4956-88f3-7ec9967c3d45",
   "metadata": {},
   "outputs": [],
   "source": []
  }
 ],
 "metadata": {
  "kernelspec": {
   "display_name": "Python 3 (ipykernel)",
   "language": "python",
   "name": "python3"
  },
  "language_info": {
   "codemirror_mode": {
    "name": "ipython",
    "version": 3
   },
   "file_extension": ".py",
   "mimetype": "text/x-python",
   "name": "python",
   "nbconvert_exporter": "python",
   "pygments_lexer": "ipython3",
   "version": "3.12.9"
  }
 },
 "nbformat": 4,
 "nbformat_minor": 5
}
